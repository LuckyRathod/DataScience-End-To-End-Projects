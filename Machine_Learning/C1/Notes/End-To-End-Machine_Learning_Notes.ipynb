{
 "cells": [
  {
   "cell_type": "markdown",
   "id": "c8aa3803",
   "metadata": {},
   "source": [
    "### End to End Machine Learning Projects \n",
    "\n",
    "#### Steps\n",
    "\n",
    "1. Create Requirements.txt\n",
    "2. Create setup.py \n",
    "3. Project Structure - Logging and Exception Handling \n",
    "    - Src/Components : All modules will be in this folder\n",
    "    - Src/Pipeline : All pipeline will trigger the components created in above folder\n",
    "    - Create below files in src \n",
    "        - Exception.py\n",
    "        - Logger.py\n",
    "        - Utils.py : Functions which can be used in any components or pipeline\n",
    "        \n",
    "  \n",
    "        \n"
   ]
  },
  {
   "cell_type": "code",
   "execution_count": null,
   "id": "ad1dd4c4",
   "metadata": {},
   "outputs": [],
   "source": []
  }
 ],
 "metadata": {
  "kernelspec": {
   "display_name": "Python 3 (ipykernel)",
   "language": "python",
   "name": "python3"
  },
  "language_info": {
   "codemirror_mode": {
    "name": "ipython",
    "version": 3
   },
   "file_extension": ".py",
   "mimetype": "text/x-python",
   "name": "python",
   "nbconvert_exporter": "python",
   "pygments_lexer": "ipython3",
   "version": "3.11.4"
  }
 },
 "nbformat": 4,
 "nbformat_minor": 5
}
