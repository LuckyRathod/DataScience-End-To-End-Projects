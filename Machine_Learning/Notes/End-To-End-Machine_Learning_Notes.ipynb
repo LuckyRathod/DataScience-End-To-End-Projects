{
 "cells": [
  {
   "cell_type": "markdown",
   "id": "2aa0c96d",
   "metadata": {},
   "source": [
    "### End to End Machine Learning Projects \n",
    "\n",
    "#### Steps\n",
    "\n",
    "1. Create Requirements.txt\n",
    "2. Create setup.py \n"
   ]
  },
  {
   "cell_type": "code",
   "execution_count": null,
   "id": "03b12976",
   "metadata": {},
   "outputs": [],
   "source": []
  }
 ],
 "metadata": {
  "kernelspec": {
   "display_name": "Python 3 (ipykernel)",
   "language": "python",
   "name": "python3"
  },
  "language_info": {
   "codemirror_mode": {
    "name": "ipython",
    "version": 3
   },
   "file_extension": ".py",
   "mimetype": "text/x-python",
   "name": "python",
   "nbconvert_exporter": "python",
   "pygments_lexer": "ipython3",
   "version": "3.11.4"
  }
 },
 "nbformat": 4,
 "nbformat_minor": 5
}
